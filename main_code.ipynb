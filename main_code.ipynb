{
 "cells": [
  {
   "cell_type": "code",
   "execution_count": 66,
   "id": "0607f0d1",
   "metadata": {},
   "outputs": [],
   "source": [
    "import collections\n",
    "import itertools\n",
    "from boltons.queueutils import HeapPriorityQueue\n",
    "import networkx as nx\n",
    "import networkx.algorithms.community.label_propagation as label_prop\n",
    "import networkx.algorithms.community.modularity_max as modularity\n",
    "import networkx.algorithms.components.connected as components"
   ]
  },
  {
   "cell_type": "code",
   "execution_count": 67,
   "id": "a62b42aa",
   "metadata": {},
   "outputs": [],
   "source": [
    "CLUSTERING_FN = {\n",
    "    1: label_prop.label_propagation_communities,\n",
    "    2: modularity.greedy_modularity_communities,\n",
    "    3: components.connected_components\n",
    "}\n"
   ]
  },
  {
   "cell_type": "code",
   "execution_count": 68,
   "id": "f5a60a74",
   "metadata": {},
   "outputs": [],
   "source": [
    "def CreateEgonets(graph):\n",
    "    completed_nodes = set()\n",
    "    \n",
    "    ego_egonet_map = collections.defaultdict(nx.Graph)\n",
    "    degrees_pq = HeapPriorityQueue()\n",
    "    curr_degree = {}\n",
    "    for node in graph.nodes:\n",
    "        degrees_pq.add(node, -graph.degree[node])\n",
    "        curr_degree[node] = graph.degree[node]\n",
    "    edge_set = set(graph.edges)\n",
    "    \n",
    "    \n",
    "    while degrees_pq:\n",
    "        node = degrees_pq.pop()\n",
    "#         print(\"---\",node)\n",
    "        for neighbor in graph.neighbors(node):\n",
    "            if neighbor == node:\n",
    "                continue\n",
    "            ego_egonet_map[node].add_node(neighbor)  \n",
    "#             print(ego_egonet_map)\n",
    "            if neighbor not in completed_nodes:\n",
    "                curr_degree[neighbor] -= 1\n",
    "                degrees_pq.remove(neighbor)\n",
    "                degrees_pq.add(neighbor, -curr_degree[neighbor])\n",
    "        not_removed = []\n",
    "#         print(ego_egonet_map)\n",
    "        for neighbor in graph.neighbors(node):\n",
    "            if neighbor not in completed_nodes:\n",
    "                not_removed.append(neighbor)\n",
    "        for pos_u, u in enumerate(not_removed):\n",
    "            for v  in not_removed[pos_u+1:]:\n",
    "                if (u, v) in edge_set or (v, u) in edge_set:\n",
    "                    ego_egonet_map[node].add_edge(u, v)\n",
    "                    ego_egonet_map[u].add_edge(node, v)\n",
    "                    ego_egonet_map[v].add_edge(u,node)\n",
    "        completed_nodes.add(node)\n",
    "#         print(completed_nodes)\n",
    "    with open(\"1.txt\", 'w') as outfile:\n",
    "        for egonet in ego_egonet_map:\n",
    "            outfile.write(f\"Egonet of {egonet} is \\n {ego_egonet_map[egonet].edges()}\\n\\n\\n\")\n",
    "#     print(ego_egonet_map)\n",
    "    return ego_egonet_map"
   ]
  },
  {
   "cell_type": "code",
   "execution_count": 69,
   "id": "8a165a6b",
   "metadata": {},
   "outputs": [],
   "source": [
    "# import networkx as nx\n",
    "# G= nx.read_edgelist('D:\\wsc project\\paper_dataset.csv',delimiter=\",\")\n",
    "# CreateEgonets(G)\n"
   ]
  },
  {
   "cell_type": "code",
   "execution_count": 70,
   "id": "8d3f1a16",
   "metadata": {},
   "outputs": [],
   "source": [
    "def CreatePersonaGraph(graph,clustering_fn=label_prop.label_propagation_communities,persona_start_id=0):\n",
    "    egonets = CreateEgonets(graph)\n",
    "    node_neighbor_persona_id_map = collections.defaultdict(dict)\n",
    "    persona_graph = nx.Graph()\n",
    "    persona_to_original_mapping = dict()\n",
    "    persona_id_counter = itertools.count(start=persona_start_id)\n",
    "\n",
    "    for u, egonet in egonets.items():\n",
    "        partitioning = clustering_fn(egonet)  \n",
    "        seen_neighbors = set()  \n",
    "        for partition in partitioning:\n",
    "            persona_id = next(persona_id_counter)\n",
    "            persona_to_original_mapping[persona_id] = u\n",
    "            for v in partition:\n",
    "                node_neighbor_persona_id_map[u][v] = persona_id\n",
    "                assert v not in seen_neighbors\n",
    "                seen_neighbors.add(v)\n",
    "    for u in graph.nodes(): \n",
    "        for v in graph.neighbors(u):\n",
    "            if v == u:\n",
    "                continue\n",
    "            assert v in node_neighbor_persona_id_map[u]\n",
    "            u_p = node_neighbor_persona_id_map[u][v]\n",
    "            assert u in node_neighbor_persona_id_map[v]\n",
    "            v_p = node_neighbor_persona_id_map[v][u]\n",
    "            persona_graph.add_edge(u_p, v_p)\n",
    "    return persona_graph, persona_to_original_mapping\n"
   ]
  },
  {
   "cell_type": "code",
   "execution_count": 71,
   "id": "524aebc8",
   "metadata": {},
   "outputs": [],
   "source": [
    "def PersonaOverlappingClustering(graph, local_clustering_fn,global_clustering_fn):\n",
    "    persona_graph, persona_id_mapping = CreatePersonaGraph(graph, local_clustering_fn)\n",
    "    print(persona_id_mapping)\n",
    "    print(\"---\")\n",
    "    print(persona_graph)\n",
    "    \n",
    "    non_overlapping_clustering = global_clustering_fn(persona_graph)\n",
    "    overlapping_clustering = set()\n",
    "    for cluster in non_overlapping_clustering:\n",
    "        cluster_original_graph = set([persona_id_mapping[c] for c in cluster])\n",
    "        cluster_original_graph = list(cluster_original_graph)\n",
    "        cluster_original_graph.sort()\n",
    "        overlapping_clustering.add(tuple(cluster_original_graph))\n",
    "    return list(overlapping_clustering), persona_graph, persona_id_mapping"
   ]
  },
  {
   "cell_type": "code",
   "execution_count": 72,
   "id": "1867e22c",
   "metadata": {},
   "outputs": [
    {
     "name": "stdout",
     "output_type": "stream",
     "text": [
      "Select Local Clustering Function \n",
      "\n",
      " Select among \n",
      " 1.'label_prop'\n",
      " 2.Modularity \n",
      " 3.connected_components\n",
      "\n",
      "1\n",
      "Select Global Clustering Function \n",
      "\n",
      " Select among \n",
      " 1.'label_prop'\n",
      " 2.'Modularity' \n",
      " 3.'connected_components'\n",
      "\n",
      "1\n",
      "{0: 'b', 1: 'c', 2: 'c', 3: 'a', 4: 'e', 5: 'f', 6: 'f', 7: 'd', 8: 'h', 9: 'g'}\n",
      "---\n",
      "\n"
     ]
    }
   ],
   "source": [
    "def main():\n",
    "    graph = nx.read_edgelist(\"D:\\wsc project\\paper_dataset.csv\", delimiter=\",\" )\n",
    "#     nx.draw(graph,with_labels=True)\n",
    "    print(\"Select Local Clustering Function \")\n",
    "    print(\"\\n Select among \\n 1.'label_prop'\\n 2.Modularity \\n 3.connected_components\\n\") \n",
    "    local_func=int(input())   \n",
    "    print(\"Select Global Clustering Function \")\n",
    "    print(\"\\n Select among \\n 1.'label_prop'\\n 2.'Modularity' \\n 3.'connected_components'\\n\")\n",
    "    global_func=int(input())\n",
    "    \n",
    "    \n",
    "    local_clustering_fn = CLUSTERING_FN[local_func]\n",
    "    global_clustering_fn = CLUSTERING_FN[global_func]\n",
    "    \n",
    "    \n",
    "   # min_component_size=int(input(\"Enter Minimum component size\\n\"))\n",
    "    clustering, persona_graph, persona_id_mapping = PersonaOverlappingClustering(graph, local_clustering_fn, global_clustering_fn)\n",
    "    with open(\"overlappingClusters.txt\", 'w') as outfile:\n",
    "        for cluster in clustering:\n",
    "            outfile.write(' '.join([str(x) for x in cluster]) + '\\n')\n",
    "    if persona_graph is not None:\n",
    "        nx.write_edgelist(persona_graph, \"persona-Graph.txt\")\n",
    "    if persona_id_mapping is not None:\n",
    "        with open(\"persona-Graph-Id_mapping.txt\", 'w') as outfile:\n",
    "            for persona_node, original_node in persona_id_mapping.items():\n",
    "                outfile.write('{} {}\\n'.format(persona_node, original_node))\n",
    "        \n",
    "main()"
   ]
  },
  {
   "cell_type": "code",
   "execution_count": null,
   "id": "1dec7ee3",
   "metadata": {},
   "outputs": [],
   "source": []
  }
 ],
 "metadata": {
  "kernelspec": {
   "display_name": "Python 3 (ipykernel)",
   "language": "python",
   "name": "python3"
  },
  "language_info": {
   "codemirror_mode": {
    "name": "ipython",
    "version": 3
   },
   "file_extension": ".py",
   "mimetype": "text/x-python",
   "name": "python",
   "nbconvert_exporter": "python",
   "pygments_lexer": "ipython3",
   "version": "3.11.1"
  }
 },
 "nbformat": 4,
 "nbformat_minor": 5
}
